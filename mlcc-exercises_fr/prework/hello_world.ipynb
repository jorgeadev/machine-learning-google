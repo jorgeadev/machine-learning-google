{
  "nbformat_minor": 0,
  "nbformat": 4,
  "cells": [
    {
      "source": [
        "#### Copyright 2017 Google LLC."
      ],
      "cell_type": "markdown",
      "metadata": {
        "colab_type": "text",
        "id": "JndnmDMp66FL"
      }
    },
    {
      "source": [
        "# Licensed under the Apache License, Version 2.0 (the \"License\");\n",
        "# you may not use this file except in compliance with the License.\n",
        "# You may obtain a copy of the License at\n",
        "#\n",
        "# https://www.apache.org/licenses/LICENSE-2.0\n",
        "#\n",
        "# Unless required by applicable law or agreed to in writing, software\n",
        "# distributed under the License is distributed on an \"AS IS\" BASIS,\n",
        "# WITHOUT WARRANTIES OR CONDITIONS OF ANY KIND, either express or implied.\n",
        "# See the License for the specific language governing permissions and\n",
        "# limitations under the License."
      ],
      "cell_type": "code",
      "metadata": {
        "colab_type": "code",
        "id": "hMqWDc_m6rUC",
        "colab": {
          "autoexec": {
            "wait_interval": 0,
            "startup": false
          }
        },
        "cellView": "both"
      },
      "outputs": [],
      "execution_count": 0
    },
    {
      "source": [
        " # Travail pr\u00e9alable\u00a0: Hello World"
      ],
      "cell_type": "markdown",
      "metadata": {
        "colab_type": "text",
        "id": "cH-YtyZs7Gcg"
      }
    },
    {
      "source": [
        " **Objectif de formation**\u00a0: Ex\u00e9cuter un programme TensorFlow dans le navigateur."
      ],
      "cell_type": "markdown",
      "metadata": {
        "colab_type": "text",
        "id": "r0QBC2kTixPn"
      }
    },
    {
      "source": [
        " Voici un programme TensorFlow \"Hello World\"\u00a0:"
      ],
      "cell_type": "markdown",
      "metadata": {
        "colab_type": "text",
        "id": "33fL46pgixPo"
      }
    },
    {
      "source": [
        "from __future__ import print_function\n\n",
        "import tensorflow as tf\n",
        "\n",
        "c = tf.constant('Hello, world!')\n",
        "\n",
        "with tf.Session() as sess:\n",
        "\n",
        "    print(sess.run(c))"
      ],
      "cell_type": "code",
      "metadata": {
        "colab_type": "code",
        "id": "bRuPN7qo7ICp",
        "colab": {
          "autoexec": {
            "wait_interval": 0,
            "startup": false
          }
        },
        "cellView": "both"
      },
      "outputs": [],
      "execution_count": 0
    },
    {
      "source": [
        " ## Pour ex\u00e9cuter ce programme\n",
        "\n",
        "  1. Cliquez n'importe o\u00f9 dans le bloc de code (sur le mot `import`, par exemple).\n",
        "\n",
        "  2. Cliquez sur la fl\u00e8che vers la droite dans l'angle sup\u00e9rieur gauche du bloc de code, ou appuyez sur \u2318/Ctrl+Entr\u00e9e.\n",
        "\n",
        "     Patientez quelques secondes avant que le programme s'ex\u00e9cute. Si tout se passe bien, la phrase `Hello, world!` s'affiche juste en dessous du bloc de code.\n",
        "\n",
        "Ce programme contient un seul bloc de code. La plupart des programmes utilis\u00e9s dans les exercices incluent plusieurs blocs, que vous devrez **ex\u00e9cuter un \u00e0 un et dans l'ordre, en partant du haut vers le bas**. \n",
        "\n",
        "En g\u00e9n\u00e9ral, le fait de ne pas respecter l'ordre d'ex\u00e9cution des blocs de code g\u00e9n\u00e8re des erreurs."
      ],
      "cell_type": "markdown",
      "metadata": {
        "colab_type": "text",
        "id": "Bl1nAshab6m5"
      }
    },
    {
      "source": [
        " ## Raccourcis clavier utiles\n",
        "\n",
        "* **\u2318/Ctrl+M,B**\u00a0: cr\u00e9e une cellule de code vide sous la cellule s\u00e9lectionn\u00e9e.\n",
        "* **\u2318/Ctrl+M,I**\u00a0: interrompt l'ex\u00e9cution de la cellule active.\n",
        "* **\u2318/Ctrl+M,H**\u00a0: affiche la liste compl\u00e8te des raccourcis clavier.\n",
        "* Pour en savoir plus sur une m\u00e9thode de l'API TensorFlow, positionnez le curseur de la souris apr\u00e8s sa parenth\u00e8se ouvrante, puis appuyez sur la touche **Tab**\u00a0:\n",
        "\n",
        "![Documentation sur la fen\u00eatre pop-up concernant la m\u00e9thode TensorFlow tf.constant](https://download.mlcc.google.com/mledu-images/tf_constant_pop_up_doc.png)"
      ],
      "cell_type": "markdown",
      "metadata": {
        "colab_type": "text",
        "id": "UpzZ0Gv-uKf_"
      }
    }
  ],
  "metadata": {
    "colab": {
      "default_view": {},
      "version": "0.3.2",
      "collapsed_sections": [
        "JndnmDMp66FL"
      ],
      "name": "hello_world.ipynb",
      "views": {}
    }
  }
}
